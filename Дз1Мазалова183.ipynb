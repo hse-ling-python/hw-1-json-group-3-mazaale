{
 "cells": [
  {
   "cell_type": "markdown",
   "metadata": {},
   "source": [
    "# Первая домашняя работа по программированию"
   ]
  },
  {
   "cell_type": "markdown",
   "metadata": {},
   "source": [
    "##### ~~и mental breakdowns~~"
   ]
  },
  {
   "cell_type": "markdown",
   "metadata": {},
   "source": [
    "#### Мазалова Александра, БКЛ183"
   ]
  },
  {
   "cell_type": "markdown",
   "metadata": {},
   "source": [
    "#### Для начала все импорты:"
   ]
  },
  {
   "cell_type": "code",
   "execution_count": 43,
   "metadata": {},
   "outputs": [],
   "source": [
    "import re\n",
    "import json\n",
    "import pprint\n",
    "from collections import Counter"
   ]
  },
  {
   "cell_type": "markdown",
   "metadata": {},
   "source": [
    "#### И PEP-8:"
   ]
  },
  {
   "cell_type": "code",
   "execution_count": 44,
   "metadata": {},
   "outputs": [],
   "source": [
    "#! pip3 install pycodestyle flake8 pycodestyle_magic\n",
    "#%load_ext pycodestyle_magic\n",
    "#%pycodestyle_on\n",
    "# здесь должна была произойти установка, но ничего не получалось, я билась два часа, а потом узнала, что было принято решение о необязательности"
   ]
  },
  {
   "cell_type": "markdown",
   "metadata": {},
   "source": [
    "#### И \"конвертируем\" все в список, чтобы удобно было работать:"
   ]
  },
  {
   "cell_type": "code",
   "execution_count": 45,
   "metadata": {},
   "outputs": [],
   "source": [
    "listsoftwitter = []\n",
    "for line in open('hw_3_twitter.json', 'r', encoding='utf-8'):\n",
    "    listsoftwitter.append(json.loads(line))"
   ]
  },
  {
   "cell_type": "markdown",
   "metadata": {},
   "source": [
    "#### 1. Подсчитаем общеее количество твиттов:"
   ]
  },
  {
   "cell_type": "code",
   "execution_count": 46,
   "metadata": {},
   "outputs": [
    {
     "name": "stdout",
     "output_type": "stream",
     "text": [
      "Всего твиттов: 2556\n"
     ]
    }
   ],
   "source": [
    "print('Всего твиттов:', len(listsoftwitter)) # Включая удаленные"
   ]
  },
  {
   "cell_type": "markdown",
   "metadata": {},
   "source": [
    "#### 2. Процент удаленных твиттов:"
   ]
  },
  {
   "cell_type": "code",
   "execution_count": 47,
   "metadata": {
    "scrolled": true
   },
   "outputs": [
    {
     "name": "stdout",
     "output_type": "stream",
     "text": [
      "Процент удаленных твиттов: 14 %\n"
     ]
    }
   ],
   "source": [
    "deleted = 0 # здесь будем считать\n",
    "for line in listsoftwitter:\n",
    "    if 'delete' in line:\n",
    "        deleted += 1\n",
    "percent = (deleted*100) // len(listsoftwitter) # с округлением\n",
    "print('Процент удаленных твиттов:', percent, '%')"
   ]
  },
  {
   "cell_type": "markdown",
   "metadata": {},
   "source": [
    "#### 3. Самые популярные языки"
   ]
  },
  {
   "cell_type": "code",
   "execution_count": 48,
   "metadata": {},
   "outputs": [
    {
     "name": "stdout",
     "output_type": "stream",
     "text": [
      "Самые популярные языки твиттов:\n",
      "en - 719\n",
      "ja - 438\n",
      "es - 173\n",
      "ko - 149\n",
      "th - 123\n",
      "ar - 119\n",
      "und - 117\n",
      "in - 71\n",
      "pt - 69\n",
      "fr - 35\n"
     ]
    }
   ],
   "source": [
    "languages = []\n",
    "for i in range(len(listsoftwitter)):\n",
    "    if listsoftwitter[i].get('lang') is not None:   # не берем deleted twits\n",
    "        languages.append(listsoftwitter[i].get('lang'))\n",
    "print('Самые популярные языки твиттов:')\n",
    "languagesfinal = Counter(languages).most_common(10)\n",
    "for key, value in languagesfinal:\n",
    "    print(key,'-', value)\n"
   ]
  },
  {
   "cell_type": "markdown",
   "metadata": {},
   "source": [
    "#### 4. Твитты от одного и того же пользователя"
   ]
  },
  {
   "cell_type": "code",
   "execution_count": 49,
   "metadata": {},
   "outputs": [
    {
     "name": "stdout",
     "output_type": "stream",
     "text": [
      "Пользователи, которые сделали больше одного твитта: 25 человек\n"
     ]
    }
   ],
   "source": [
    "names = []\n",
    "theuser = 0 # чуть позже будем считать каждого пользователя по отдельности\n",
    "for line in listsoftwitter:\n",
    "        for key in line:\n",
    "            if key == 'user':\n",
    "                username = line[key]['id'] # вытаскиваем пользователей по id\n",
    "                names.append(username)\n",
    "listofnames = Counter(names)\n",
    "values = listofnames.values()\n",
    "for value in values:\n",
    "    if value != 1:\n",
    "        theuser += 1\n",
    "print('Пользователи, которые сделали больше одного твитта:', theuser, 'человек')"
   ]
  },
  {
   "cell_type": "markdown",
   "metadata": {},
   "source": [
    "#### 5. Топ-20 хэштегов:"
   ]
  },
  {
   "cell_type": "code",
   "execution_count": 50,
   "metadata": {},
   "outputs": [
    {
     "name": "stdout",
     "output_type": "stream",
     "text": [
      "Топ хэштегов:\n",
      "BTS\n",
      "방탄소년단\n",
      "AMAs\n",
      "人気投票ガチャ\n",
      "태형\n",
      "뷔\n",
      "BTSinChicago\n",
      "BTSLoveYourselfTour\n",
      "오늘의방탄\n",
      "PledgeForSwachhBharat\n",
      "MPN\n",
      "PCAs\n",
      "V\n",
      "시카고1회차공연\n",
      "เป๊กผลิตโชค\n",
      "JIMIN\n",
      "running\n",
      "NCT\n",
      "지민\n",
      "WajahmuPlastik\n"
     ]
    }
   ],
   "source": [
    "withoutdeleted = []  \n",
    "for i in range(len(listsoftwitter)):\n",
    "    if listsoftwitter[i].get('entities') is not None:\n",
    "        withoutdeleted.append(listsoftwitter[i])\n",
    "tags = []\n",
    "for line in withoutdeleted:\n",
    "        firstly = line['entities']  # по entities\n",
    "        hashtags = firstly.get('hashtags')  # \"глубже\" по hashtags\n",
    "        for item in hashtags:\n",
    "            tags.append(item.get('text'))\n",
    "answer = Counter(tags).most_common(20)\n",
    "print('Топ хэштегов:')\n",
    "for key, value in answer:\n",
    "    print(key)"
   ]
  },
  {
   "cell_type": "markdown",
   "metadata": {},
   "source": [
    "#### 6."
   ]
  },
  {
   "cell_type": "code",
   "execution_count": 58,
   "metadata": {},
   "outputs": [
    {
     "name": "stdout",
     "output_type": "stream",
     "text": [
      "Частотный словарь:\n",
      " the - 56\n",
      " and - 31\n",
      " that - 19\n",
      " you - 19\n",
      " for - 13\n",
      " your - 13\n",
      "of the - 13\n",
      " with - 11\n",
      " about - 10\n",
      " are - 10\n",
      " from - 10\n",
      " they - 9\n",
      " like - 8\n",
      " but - 8\n",
      " only - 8\n",
      " can - 7\n",
      " &amp - 7\n",
      " out - 7\n",
      " was - 7\n",
      " what - 6\n",
      " get - 6\n",
      " more - 6\n",
      " when - 6\n",
      " than - 6\n",
      " one - 6\n",
      " pardede - 6\n",
      " this - 5\n",
      " people - 5\n",
      " most - 5\n",
      "in the - 5\n"
     ]
    }
   ],
   "source": [
    "twitsineng = [] # потом тут будут твитты на английском\n",
    "preworterbuch = []\n",
    "for i in range(len(listsoftwitter)):\n",
    "    if listsoftwitter[i].get('lang') == 'en':  # отбираем твиты на английском\n",
    "        if listsoftwitter[i].get('extended_tweet') is not None:\n",
    "            twitsineng.append(listsoftwitter[i].get('extended_tweet'))\n",
    "for line in twitsineng:\n",
    "    preworterbuch.append(line['full_text'])\n",
    "for i in preworterbuch:\n",
    "    words = re.compile(\"([^h+t+t+p+s][^0-9][^''][a-zA-Z-']+)\")\n",
    "    words = words.findall(str(preworterbuch).lower().replace('hzzmhz', '').replace('co', '').replace('/t', '').replace('?', '').replace('.', '').replace('!', '').replace(',', '').replace(':', '').replace('https', '').replace('\\\\n', '').replace('.co', ''))\n",
    "worterbuch = Counter(words).most_common(30)\n",
    "print('Частотный словарь:')\n",
    "for key, value in worterbuch:\n",
    "    print(key, '-', value)\n",
    "\n",
    "\n"
   ]
  },
  {
   "cell_type": "markdown",
   "metadata": {},
   "source": [
    "#### 7. Топ по количеству подписчиков:"
   ]
  },
  {
   "cell_type": "code",
   "execution_count": 52,
   "metadata": {},
   "outputs": [
    {
     "name": "stdout",
     "output_type": "stream",
     "text": [
      "Filosofía♕ - 2521403 подписчиков\n",
      "FITNESS Magazine - 1491309 подписчиков\n",
      "malaysiakini.com - 1206759 подписчиков\n",
      "NYT Science - 1137374 подписчиков\n",
      "Gramática - 625463 подписчиков\n",
      "TGRT Haber - 392472 подписчиков\n",
      "The Sun Football ⚽ - 383698 подписчиков\n",
      "Melbourne, Australia - 374222 подписчиков\n",
      "Roznama Express - 318189 подписчиков\n",
      "💞 ცųཞɠɛཞცơơɠıɛ 💞 - 311319 подписчиков\n"
     ]
    }
   ],
   "source": [
    "followers = {}\n",
    "for line in listsoftwitter:\n",
    "    for key in line:\n",
    "        if key == 'user': \n",
    "            counterf = line[key]['followers_count']\n",
    "            nameforseven = line[key]['name'] # кончилась фантазия на названия переменных и списков\n",
    "            user = {nameforseven: counterf}\n",
    "            followers.update(user)\n",
    "maxim = 0\n",
    "for key in sorted(followers, key=followers.get, reverse=True):\n",
    "    print(key, '-', followers[key], 'подписчиков')\n",
    "    maxim += 1\n",
    "    if maxim == 10: # я пыталась сделать выход через while, но почему-то тогда ломается принт сразу же. через брейк работает, но это странно\n",
    "        break\n"
   ]
  }
 ],
 "metadata": {
  "kernelspec": {
   "display_name": "Python 3",
   "language": "python",
   "name": "python3"
  },
  "language_info": {
   "codemirror_mode": {
    "name": "ipython",
    "version": 3
   },
   "file_extension": ".py",
   "mimetype": "text/x-python",
   "name": "python",
   "nbconvert_exporter": "python",
   "pygments_lexer": "ipython3",
   "version": "3.7.3"
  }
 },
 "nbformat": 4,
 "nbformat_minor": 2
}
